{
 "cells": [
  {
   "cell_type": "code",
   "execution_count": 1,
   "id": "0c35aa80",
   "metadata": {
    "scrolled": false
   },
   "outputs": [
    {
     "name": "stderr",
     "output_type": "stream",
     "text": [
      "Loading Links Data: 100%|██████████████████████████████████████████████████████████████| 30/30 [00:36<00:00,  1.22s/it]\n",
      "Loading Entry/Exit Data: 100%|██████████████████████████████████████████████████████████| 1/1 [00:00<00:00, 494.90it/s]\n"
     ]
    },
    {
     "name": "stdout",
     "output_type": "stream",
     "text": [
      "date 출략\n",
      "01\n"
     ]
    },
    {
     "name": "stderr",
     "output_type": "stream",
     "text": [
      "Loading Entry/Exit Data: 100%|██████████████████████████████████████████████████████████| 1/1 [00:00<00:00, 499.74it/s]\n"
     ]
    },
    {
     "name": "stdout",
     "output_type": "stream",
     "text": [
      "date 출략\n",
      "02\n"
     ]
    },
    {
     "name": "stderr",
     "output_type": "stream",
     "text": [
      "Loading Entry/Exit Data: 100%|██████████████████████████████████████████████████████████| 1/1 [00:00<00:00, 664.50it/s]\n"
     ]
    },
    {
     "name": "stdout",
     "output_type": "stream",
     "text": [
      "date 출략\n",
      "03\n"
     ]
    },
    {
     "name": "stderr",
     "output_type": "stream",
     "text": [
      "Loading Entry/Exit Data: 100%|██████████████████████████████████████████████████████████| 1/1 [00:00<00:00, 500.16it/s]\n"
     ]
    },
    {
     "name": "stdout",
     "output_type": "stream",
     "text": [
      "date 출략\n",
      "04\n"
     ]
    },
    {
     "name": "stderr",
     "output_type": "stream",
     "text": [
      "Loading Entry/Exit Data: 100%|██████████████████████████████████████████████████████████| 1/1 [00:00<00:00, 377.73it/s]\n"
     ]
    },
    {
     "name": "stdout",
     "output_type": "stream",
     "text": [
      "date 출략\n",
      "05\n"
     ]
    },
    {
     "name": "stderr",
     "output_type": "stream",
     "text": [
      "Loading Entry/Exit Data: 100%|██████████████████████████████████████████████████████████| 1/1 [00:00<00:00, 500.04it/s]\n"
     ]
    },
    {
     "name": "stdout",
     "output_type": "stream",
     "text": [
      "date 출략\n",
      "06\n"
     ]
    },
    {
     "name": "stderr",
     "output_type": "stream",
     "text": [
      "Loading Entry/Exit Data: 100%|██████████████████████████████████████████████████████████| 1/1 [00:00<00:00, 999.36it/s]\n"
     ]
    },
    {
     "name": "stdout",
     "output_type": "stream",
     "text": [
      "date 출략\n",
      "07\n"
     ]
    },
    {
     "name": "stderr",
     "output_type": "stream",
     "text": [
      "Loading Entry/Exit Data: 100%|█████████████████████████████████████████████████████████| 1/1 [00:00<00:00, 1000.07it/s]\n"
     ]
    },
    {
     "name": "stdout",
     "output_type": "stream",
     "text": [
      "date 출략\n",
      "08\n"
     ]
    },
    {
     "name": "stderr",
     "output_type": "stream",
     "text": [
      "Loading Entry/Exit Data: 100%|██████████████████████████████████████████████████████████| 1/1 [00:00<00:00, 500.04it/s]\n"
     ]
    },
    {
     "name": "stdout",
     "output_type": "stream",
     "text": [
      "date 출략\n",
      "09\n"
     ]
    },
    {
     "name": "stderr",
     "output_type": "stream",
     "text": [
      "Loading Entry/Exit Data: 100%|██████████████████████████████████████████████████████████| 1/1 [00:00<00:00, 438.92it/s]\n"
     ]
    },
    {
     "name": "stdout",
     "output_type": "stream",
     "text": [
      "date 출략\n",
      "10\n"
     ]
    },
    {
     "name": "stderr",
     "output_type": "stream",
     "text": [
      "Loading Entry/Exit Data: 100%|██████████████████████████████████████████████████████████| 1/1 [00:00<00:00, 314.06it/s]\n"
     ]
    },
    {
     "name": "stdout",
     "output_type": "stream",
     "text": [
      "date 출략\n",
      "11\n"
     ]
    },
    {
     "name": "stderr",
     "output_type": "stream",
     "text": [
      "Loading Entry/Exit Data: 100%|██████████████████████████████████████████████████████████| 1/1 [00:00<00:00, 333.41it/s]\n"
     ]
    },
    {
     "name": "stdout",
     "output_type": "stream",
     "text": [
      "date 출략\n",
      "12\n"
     ]
    },
    {
     "name": "stderr",
     "output_type": "stream",
     "text": [
      "Loading Entry/Exit Data: 100%|██████████████████████████████████████████████████████████| 1/1 [00:00<00:00, 333.36it/s]\n"
     ]
    },
    {
     "name": "stdout",
     "output_type": "stream",
     "text": [
      "date 출략\n",
      "13\n"
     ]
    },
    {
     "name": "stderr",
     "output_type": "stream",
     "text": [
      "Loading Entry/Exit Data: 100%|██████████████████████████████████████████████████████████| 1/1 [00:00<00:00, 776.29it/s]\n"
     ]
    },
    {
     "name": "stdout",
     "output_type": "stream",
     "text": [
      "date 출략\n",
      "14\n"
     ]
    },
    {
     "name": "stderr",
     "output_type": "stream",
     "text": [
      "Loading Entry/Exit Data: 100%|██████████████████████████████████████████████████████████| 1/1 [00:00<00:00, 500.04it/s]\n"
     ]
    },
    {
     "name": "stdout",
     "output_type": "stream",
     "text": [
      "date 출략\n",
      "15\n"
     ]
    },
    {
     "name": "stderr",
     "output_type": "stream",
     "text": [
      "Loading Entry/Exit Data: 100%|██████████████████████████████████████████████████████████| 1/1 [00:00<00:00, 451.00it/s]\n"
     ]
    },
    {
     "name": "stdout",
     "output_type": "stream",
     "text": [
      "date 출략\n",
      "16\n"
     ]
    },
    {
     "name": "stderr",
     "output_type": "stream",
     "text": [
      "Loading Entry/Exit Data: 100%|██████████████████████████████████████████████████████████| 1/1 [00:00<00:00, 499.98it/s]\n"
     ]
    },
    {
     "name": "stdout",
     "output_type": "stream",
     "text": [
      "date 출략\n",
      "17\n"
     ]
    },
    {
     "name": "stderr",
     "output_type": "stream",
     "text": [
      "Loading Entry/Exit Data: 100%|██████████████████████████████████████████████████████████| 1/1 [00:00<00:00, 438.83it/s]\n"
     ]
    },
    {
     "name": "stdout",
     "output_type": "stream",
     "text": [
      "date 출략\n",
      "18\n"
     ]
    },
    {
     "name": "stderr",
     "output_type": "stream",
     "text": [
      "Loading Entry/Exit Data: 100%|██████████████████████████████████████████████████████████| 1/1 [00:00<00:00, 499.80it/s]\n"
     ]
    },
    {
     "name": "stdout",
     "output_type": "stream",
     "text": [
      "date 출략\n",
      "19\n"
     ]
    },
    {
     "name": "stderr",
     "output_type": "stream",
     "text": [
      "Loading Entry/Exit Data: 100%|██████████████████████████████████████████████████████████| 1/1 [00:00<00:00, 799.98it/s]\n"
     ]
    },
    {
     "name": "stdout",
     "output_type": "stream",
     "text": [
      "date 출략\n",
      "20\n"
     ]
    },
    {
     "name": "stderr",
     "output_type": "stream",
     "text": [
      "Loading Entry/Exit Data: 100%|█████████████████████████████████████████████████████████| 1/1 [00:00<00:00, 1000.07it/s]\n"
     ]
    },
    {
     "name": "stdout",
     "output_type": "stream",
     "text": [
      "date 출략\n",
      "21\n"
     ]
    },
    {
     "name": "stderr",
     "output_type": "stream",
     "text": [
      "Loading Entry/Exit Data: 100%|██████████████████████████████████████████████████████████| 1/1 [00:00<00:00, 333.41it/s]\n"
     ]
    },
    {
     "name": "stdout",
     "output_type": "stream",
     "text": [
      "date 출략\n",
      "22\n"
     ]
    },
    {
     "name": "stderr",
     "output_type": "stream",
     "text": [
      "Loading Entry/Exit Data: 100%|██████████████████████████████████████████████████████████| 1/1 [00:00<00:00, 499.86it/s]\n"
     ]
    },
    {
     "name": "stdout",
     "output_type": "stream",
     "text": [
      "date 출략\n",
      "23\n"
     ]
    },
    {
     "name": "stderr",
     "output_type": "stream",
     "text": [
      "Loading Entry/Exit Data: 100%|██████████████████████████████████████████████████████████| 1/1 [00:00<00:00, 333.41it/s]\n"
     ]
    },
    {
     "name": "stdout",
     "output_type": "stream",
     "text": [
      "date 출략\n",
      "24\n"
     ]
    },
    {
     "name": "stderr",
     "output_type": "stream",
     "text": [
      "Loading Entry/Exit Data: 100%|██████████████████████████████████████████████████████████| 1/1 [00:00<00:00, 499.92it/s]\n"
     ]
    },
    {
     "name": "stdout",
     "output_type": "stream",
     "text": [
      "date 출략\n",
      "25\n"
     ]
    },
    {
     "name": "stderr",
     "output_type": "stream",
     "text": [
      "Loading Entry/Exit Data: 100%|██████████████████████████████████████████████████████████| 1/1 [00:00<00:00, 333.33it/s]\n"
     ]
    },
    {
     "name": "stdout",
     "output_type": "stream",
     "text": [
      "date 출략\n",
      "26\n"
     ]
    },
    {
     "name": "stderr",
     "output_type": "stream",
     "text": [
      "Loading Entry/Exit Data: 100%|██████████████████████████████████████████████████████████| 1/1 [00:00<00:00, 333.17it/s]\n"
     ]
    },
    {
     "name": "stdout",
     "output_type": "stream",
     "text": [
      "date 출략\n",
      "27\n"
     ]
    },
    {
     "name": "stderr",
     "output_type": "stream",
     "text": [
      "Loading Entry/Exit Data: 100%|██████████████████████████████████████████████████████████| 1/1 [00:00<00:00, 362.61it/s]\n"
     ]
    },
    {
     "name": "stdout",
     "output_type": "stream",
     "text": [
      "date 출략\n",
      "28\n"
     ]
    },
    {
     "name": "stderr",
     "output_type": "stream",
     "text": [
      "Loading Entry/Exit Data: 100%|██████████████████████████████████████████████████████████| 1/1 [00:00<00:00, 593.17it/s]\n"
     ]
    },
    {
     "name": "stdout",
     "output_type": "stream",
     "text": [
      "date 출략\n",
      "29\n"
     ]
    },
    {
     "name": "stderr",
     "output_type": "stream",
     "text": [
      "Loading Entry/Exit Data: 100%|██████████████████████████████████████████████████████████| 1/1 [00:00<00:00, 499.92it/s]\n"
     ]
    },
    {
     "name": "stdout",
     "output_type": "stream",
     "text": [
      "date 출략\n",
      "30\n",
      "Entry/Exit 데이터 일부를 확인합니다:\n",
      "   Index       위도값        경도값     RSE_ID  ExitingCount  EnteringCount  \\\n",
      "0      0  37.16678  127.09193  162006064        180514         183103   \n",
      "1      1  37.09439  127.12184  162005969        152954         153573   \n",
      "2      2  37.12583  127.09694  162006016        139702         138832   \n",
      "3      3  37.27944  127.10353  162006192        138791         130950   \n",
      "4      4  37.15923  127.08844  162006058        136701         139482   \n",
      "\n",
      "                            Address        Date  \n",
      "0             대한민국 경기도 화성시 송동 425-9  2024-04-01  \n",
      "1  대한민국 경기도 용인시 처인구 남사읍 진목리 949-383  2024-04-01  \n",
      "2        대한민국 경기도 평택시 진위면 동천리 602-2  2024-04-01  \n",
      "3       대한민국 경기도 용인시 기흥구 신갈동 384-10  2024-04-01  \n",
      "4            대한민국 경기도 오산시 부산동 157-3  2024-04-01  \n",
      "train_links_df의 일부 데이터를 출력합니다:\n",
      "   차량ID     Source     Target       Date\n",
      "0     1  262002639  262002573 2024-04-01\n",
      "1     1  262002573  262002510 2024-04-01\n",
      "2     1  262002510  262004808 2024-04-01\n",
      "3     1  262004808  262004582 2024-04-01\n",
      "4     1  262004582  262004479 2024-04-01\n",
      "날짜확인1\n",
      "      Index       위도값        경도값     RSE_ID  ExitingCount  EnteringCount  \\\n",
      "0         0  37.16678  127.09193  162006064        180514         183103   \n",
      "1         1  37.09439  127.12184  162005969        152954         153573   \n",
      "2         2  37.12583  127.09694  162006016        139702         138832   \n",
      "3         3  37.27944  127.10353  162006192        138791         130950   \n",
      "4         4  37.15923  127.08844  162006058        136701         139482   \n",
      "...     ...       ...        ...        ...           ...            ...   \n",
      "2101     91  37.33278  127.10361  462006250          8400           8332   \n",
      "2102     92  36.73039  127.26357  162005500          6997           6980   \n",
      "2103     93  36.29766  127.59916  462004812          5412           5381   \n",
      "2104     94  36.65787  127.36991  162005342          3070           3055   \n",
      "2105     95  36.71603  127.34914  162005422           320            319   \n",
      "\n",
      "                               Address       Date  \n",
      "0                대한민국 경기도 화성시 송동 425-9 2024-04-01  \n",
      "1     대한민국 경기도 용인시 처인구 남사읍 진목리 949-383 2024-04-01  \n",
      "2           대한민국 경기도 평택시 진위면 동천리 602-2 2024-04-01  \n",
      "3          대한민국 경기도 용인시 기흥구 신갈동 384-10 2024-04-01  \n",
      "4               대한민국 경기도 오산시 부산동 157-3 2024-04-01  \n",
      "...                                ...        ...  \n",
      "2101       대한민국 경기도 용인시 수지구 죽전동 866-14 2024-04-22  \n",
      "2102   대한민국 충청남도 천안시 동남구 수신면 신풍리 462-2 2024-04-22  \n",
      "2103       대한민국 충청북도 옥천군 옥천읍 매화리 291-9 2024-04-22  \n",
      "2104  대한민국 충청북도 청주시 흥덕구 옥산면 경부고속도로 309 2024-04-22  \n",
      "2105     대한민국 충청북도 청주시 흥덕구 옥산면 장남리 287 2024-04-22  \n",
      "\n",
      "[2106 rows x 8 columns]\n",
      "날짜확인2\n",
      "      Index       위도값        경도값     RSE_ID  ExitingCount  EnteringCount  \\\n",
      "2106      0  37.16678  127.09193  162006064        164402         165807   \n",
      "2107      1  37.09439  127.12184  162005969        145715         148789   \n",
      "2108      2  37.12583  127.09694  162006016        136684         137355   \n",
      "2109      3  37.27944  127.10353  162006192        133701         127824   \n",
      "2110      4  37.15923  127.08844  162006058        133348         136640   \n",
      "...     ...       ...        ...        ...           ...            ...   \n",
      "2868     91  36.85541  127.18106  162005692          6550           6561   \n",
      "2869     92  36.73039  127.26357  162005500          3574           3555   \n",
      "2870     93  36.65787  127.36991  162005342          3256           3267   \n",
      "2871     94       NaN        NaN  462015611           341            400   \n",
      "2872     95  36.71603  127.34914  162005422           265            264   \n",
      "\n",
      "                               Address       Date  \n",
      "2106             대한민국 경기도 화성시 송동 425-9 2024-04-23  \n",
      "2107  대한민국 경기도 용인시 처인구 남사읍 진목리 949-383 2024-04-23  \n",
      "2108        대한민국 경기도 평택시 진위면 동천리 602-2 2024-04-23  \n",
      "2109       대한민국 경기도 용인시 기흥구 신갈동 384-10 2024-04-23  \n",
      "2110            대한민국 경기도 오산시 부산동 157-3 2024-04-23  \n",
      "...                                ...        ...  \n",
      "2868   대한민국 충청남도 천안시 서북구 성거읍 요방리 117-3 2024-04-30  \n",
      "2869   대한민국 충청남도 천안시 동남구 수신면 신풍리 462-2 2024-04-30  \n",
      "2870  대한민국 충청북도 청주시 흥덕구 옥산면 경부고속도로 309 2024-04-30  \n",
      "2871                               NaN 2024-04-30  \n",
      "2872     대한민국 충청북도 청주시 흥덕구 옥산면 장남리 287 2024-04-30  \n",
      "\n",
      "[767 rows x 8 columns]\n",
      "train_entry_exit_df의 일부 데이터를 출력합니다:\n",
      "   Index       위도값        경도값     RSE_ID  ExitingCount  EnteringCount  \\\n",
      "0      0  37.16678  127.09193  162006064        180514         183103   \n",
      "1      1  37.09439  127.12184  162005969        152954         153573   \n",
      "2      2  37.12583  127.09694  162006016        139702         138832   \n",
      "3      3  37.27944  127.10353  162006192        138791         130950   \n",
      "4      4  37.15923  127.08844  162006058        136701         139482   \n",
      "\n",
      "                            Address       Date  \n",
      "0             대한민국 경기도 화성시 송동 425-9 2024-04-01  \n",
      "1  대한민국 경기도 용인시 처인구 남사읍 진목리 949-383 2024-04-01  \n",
      "2        대한민국 경기도 평택시 진위면 동천리 602-2 2024-04-01  \n",
      "3       대한민국 경기도 용인시 기흥구 신갈동 384-10 2024-04-01  \n",
      "4            대한민국 경기도 오산시 부산동 157-3 2024-04-01  \n",
      "validate_entry_exit_df의일부 데이터를 출력합니다:\n",
      "      Index       위도값        경도값     RSE_ID  ExitingCount  EnteringCount  \\\n",
      "2106      0  37.16678  127.09193  162006064        164402         165807   \n",
      "2107      1  37.09439  127.12184  162005969        145715         148789   \n",
      "2108      2  37.12583  127.09694  162006016        136684         137355   \n",
      "2109      3  37.27944  127.10353  162006192        133701         127824   \n",
      "2110      4  37.15923  127.08844  162006058        133348         136640   \n",
      "\n",
      "                               Address       Date  \n",
      "2106             대한민국 경기도 화성시 송동 425-9 2024-04-23  \n",
      "2107  대한민국 경기도 용인시 처인구 남사읍 진목리 949-383 2024-04-23  \n",
      "2108        대한민국 경기도 평택시 진위면 동천리 602-2 2024-04-23  \n",
      "2109       대한민국 경기도 용인시 기흥구 신갈동 384-10 2024-04-23  \n",
      "2110            대한민국 경기도 오산시 부산동 157-3 2024-04-23  \n",
      "Applying Label Encoder to train_links_df...\n"
     ]
    },
    {
     "name": "stderr",
     "output_type": "stream",
     "text": [
      "Encoding Train Links Data: 100%|███████████████████████████████████| 118170240/118170240 [00:10<00:00, 10795552.54it/s]\n"
     ]
    },
    {
     "name": "stdout",
     "output_type": "stream",
     "text": [
      "Applying Label Encoder to validate_links_df...\n"
     ]
    },
    {
     "name": "stderr",
     "output_type": "stream",
     "text": [
      "Encoding Validate Links Data: 100%|██████████████████████████████████| 42498962/42498962 [00:03<00:00, 10673928.24it/s]\n"
     ]
    },
    {
     "name": "stdout",
     "output_type": "stream",
     "text": [
      "Sampling train_links_df...\n",
      "Sampling validate_links_df...\n",
      "Sampling train_entry_exit_df...\n",
      "Sampling validate_entry_exit_df...\n",
      "Saving processed dataframes...\n",
      "데이터 로딩 및 처리가 완료되었습니다.\n"
     ]
    }
   ],
   "source": [
    "import numpy as np\n",
    "import pandas as pd\n",
    "import glob\n",
    "from tqdm import tqdm\n",
    "from sklearn.preprocessing import LabelEncoder\n",
    "import joblib\n",
    "import re\n",
    "\n",
    "# 파일 경로 설정\n",
    "nodes_path = \"D:/바탕 화면/2024_1학기 과제물/SNS수업/팀플/nodes.csv\"\n",
    "links_path_pattern = \"D:/바탕 화면/DSRC/Links/Links_04*.csv\"\n",
    "entry_exit_path_pattern = [\n",
    "    'D:/바탕 화면/DSRC/진출진입/entering_0401.csv',\n",
    "    'D:/바탕 화면/DSRC/진출진입/entering_0402.csv',\n",
    "    'D:/바탕 화면/DSRC/진출진입/entering_0403.csv',\n",
    "    'D:/바탕 화면/DSRC/진출진입/entering_0404.csv',\n",
    "    'D:/바탕 화면/DSRC/진출진입/entering_0405.csv',\n",
    "    'D:/바탕 화면/DSRC/진출진입/entering_0406.csv',\n",
    "    'D:/바탕 화면/DSRC/진출진입/entering_0407.csv',\n",
    "    'D:/바탕 화면/DSRC/진출진입/entering_0408.csv',\n",
    "    'D:/바탕 화면/DSRC/진출진입/entering_0409.csv',\n",
    "    'D:/바탕 화면/DSRC/진출진입/entering_0410.csv',\n",
    "    'D:/바탕 화면/DSRC/진출진입/entering_0411.csv',\n",
    "    'D:/바탕 화면/DSRC/진출진입/entering_0412.csv',\n",
    "    'D:/바탕 화면/DSRC/진출진입/entering_0413.csv',\n",
    "    'D:/바탕 화면/DSRC/진출진입/entering_0414.csv',\n",
    "    'D:/바탕 화면/DSRC/진출진입/entering_0415.csv',\n",
    "    'D:/바탕 화면/DSRC/진출진입/entering_0416.csv',\n",
    "    'D:/바탕 화면/DSRC/진출진입/entering_0417.csv',\n",
    "    'D:/바탕 화면/DSRC/진출진입/entering_0418.csv',\n",
    "    'D:/바탕 화면/DSRC/진출진입/entering_0419.csv',\n",
    "    'D:/바탕 화면/DSRC/진출진입/entering_0420.csv',\n",
    "    'D:/바탕 화면/DSRC/진출진입/entering_0421.csv',\n",
    "    'D:/바탕 화면/DSRC/진출진입/entering_0422.csv',\n",
    "    'D:/바탕 화면/DSRC/진출진입/entering_0423.csv',\n",
    "    'D:/바탕 화면/DSRC/진출진입/entering_0424.csv',\n",
    "    'D:/바탕 화면/DSRC/진출진입/entering_0425.csv',\n",
    "    'D:/바탕 화면/DSRC/진출진입/entering_0426.csv',\n",
    "    'D:/바탕 화면/DSRC/진출진입/entering_0427.csv',\n",
    "    'D:/바탕 화면/DSRC/진출진입/entering_0428.csv',\n",
    "    'D:/바탕 화면/DSRC/진출진입/entering_0429.csv',\n",
    "    'D:/바탕 화면/DSRC/진출진입/entering_0430.csv'\n",
    "]\n",
    "\n",
    "# 데이터 로드\n",
    "links_dfs = []\n",
    "for f in tqdm(glob.glob(links_path_pattern), desc='Loading Links Data'):\n",
    "    date = re.search(r'Links_04(\\d+).csv', f).group(1)\n",
    "    temp_df = pd.read_csv(f, encoding='utf-8', dtype={'Source': 'int32', 'Target': 'int32', 'Weight': 'float32'})\n",
    "    temp_df['Date'] = '2024-04-' + date  # 'Date' 열 추가, 예: '2024-04-23'\n",
    "    links_dfs.append(temp_df)\n",
    "links_df = pd.concat(links_dfs, ignore_index=True)\n",
    "\n",
    "# Entry/Exit 데이터 로드\n",
    "entry_exit_dfs = []\n",
    "for pattern in entry_exit_path_pattern:\n",
    "    for f in tqdm(glob.glob(pattern), desc='Loading Entry/Exit Data'):\n",
    "        temp_df = pd.read_csv(f, encoding='utf-8', dtype={'RSE_ID': 'int32', 'Count': 'int32'})\n",
    "        date = re.search(r'entering_04(\\d{2}).csv', f).group(1)\n",
    "        print(\"date 출략\")\n",
    "        print(date)\n",
    "        temp_df['Date'] = '2024-04-' + date  # 'Date' 열 추가\n",
    "        entry_exit_dfs.append(temp_df)\n",
    "        \n",
    "entry_exit_df = pd.concat(entry_exit_dfs, ignore_index=True)\n",
    "\n",
    "print(\"Entry/Exit 데이터 일부를 확인합니다:\")\n",
    "print(entry_exit_df.head())  # 여기에 추가되었습니다.\n",
    "\n",
    "# 데이터 분할: 4월 데이터로 학습, 4월 23~30 데이터로 검증\n",
    "# 'Date' 필터링\n",
    "links_df['Date'] = pd.to_datetime(links_df['Date'])  # 'Date' 열을 datetime 타입으로 변환\n",
    "entry_exit_df['Date'] = pd.to_datetime(entry_exit_df['Date'])\n",
    "\n",
    "# 학습 및 검증 데이터 분리\n",
    "train_links_df = links_df[links_df['Date'] < '2024-04-23'].copy()\n",
    "validate_links_df = links_df[links_df['Date'] >= '2024-04-23'].copy()\n",
    "\n",
    "# train_entry_exit_df의 일부 데이터 출력\n",
    "print(\"train_links_df의 일부 데이터를 출력합니다:\")\n",
    "print(train_links_df.head())  # 이 부분에 코드를 삽입합니다.\n",
    "print(\"날짜확인1\")\n",
    "print(entry_exit_df[entry_exit_df['Date'] < '2024-04-23'])\n",
    "\n",
    "print(\"날짜확인2\")\n",
    "print(entry_exit_df[entry_exit_df['Date'] >= '2024-04-23'])\n",
    "\n",
    "train_entry_exit_df = entry_exit_df[entry_exit_df['Date'] < '2024-04-23'].copy()\n",
    "validate_entry_exit_df = entry_exit_df[entry_exit_df['Date'] >= '2024-04-23'].copy()\n",
    "\n",
    "# train_entry_exit_df의 일부 데이터 출력\n",
    "print(\"train_entry_exit_df의 일부 데이터를 출력합니다:\")\n",
    "print(train_entry_exit_df.head())  # 이 부분에 코드를 삽입합니다.\n",
    "\n",
    "print(\"validate_entry_exit_df의일부 데이터를 출력합니다:\")\n",
    "print(validate_entry_exit_df.head())  # 이 부분에 코드를 삽입합니다.\n",
    "# LabelEncoder 인스턴스 생성\n",
    "label_encoder = LabelEncoder()\n",
    "\n",
    "# 학습 데이터에 레이블 인코더 적용\n",
    "print(\"Applying Label Encoder to train_links_df...\")\n",
    "train_links_df['encoded_source'] = list(tqdm(label_encoder.fit_transform(train_links_df['Source']), desc='Encoding Train Links Data'))\n",
    "\n",
    "# 검증 데이터에 동일한 레이블 인코더 적용 (transform을 사용)\n",
    "print(\"Applying Label Encoder to validate_links_df...\")\n",
    "validate_links_df['encoded_source'] = list(tqdm(label_encoder.transform(validate_links_df['Source']), desc='Encoding Validate Links Data'))\n",
    "\n",
    "# 데이터 샘플링\n",
    "print(\"Sampling train_links_df...\")\n",
    "train_links_df = train_links_df.sample(frac=0.7, random_state=42)\n",
    "print(\"Sampling validate_links_df...\")\n",
    "validate_links_df = validate_links_df.sample(frac=0.7, random_state=42)\n",
    "\n",
    "# Entry/Exit 데이터에 대해서도 동일한 처리\n",
    "print(\"Sampling train_entry_exit_df...\")\n",
    "train_entry_exit_df = train_entry_exit_df.sample(frac=0.7, random_state=42)\n",
    "print(\"Sampling validate_entry_exit_df...\")\n",
    "validate_entry_exit_df = validate_entry_exit_df.sample(frac=0.7, random_state=42)\n",
    "\n",
    "# 칼럼 이름 변경\n",
    "def clean_column_names(df):\n",
    "    df.columns = df.columns.str.strip().str.replace(' ', '_', regex=False).str.replace('(', '', regex=False).str.replace(')', '', regex=False)\n",
    "    return df\n",
    "\n",
    "train_links_df = clean_column_names(train_links_df)\n",
    "validate_links_df = clean_column_names(validate_links_df)\n",
    "train_entry_exit_df = clean_column_names(train_entry_exit_df)\n",
    "validate_entry_exit_df = clean_column_names(validate_entry_exit_df)\n",
    "\n",
    "# 데이터 저장\n",
    "print(\"Saving processed dataframes...\")\n",
    "train_links_df.to_csv('train_links_df.csv', index=False, encoding='utf-8-sig')\n",
    "validate_links_df.to_csv('validate_links_df.csv', index=False, encoding='utf-8-sig')\n",
    "train_entry_exit_df.to_csv('train_entry_exit_df.csv', index=False, encoding='utf-8-sig')\n",
    "validate_entry_exit_df.to_csv('validate_entry_exit_df.csv', index=False, encoding='utf-8-sig')\n",
    "\n",
    "# LabelEncoder 저장\n",
    "joblib.dump(label_encoder, 'label_encoder.pkl')\n",
    "\n",
    "print(\"데이터 로딩 및 처리가 완료되었습니다.\")\n"
   ]
  },
  {
   "cell_type": "code",
   "execution_count": null,
   "id": "fbb4451b",
   "metadata": {},
   "outputs": [],
   "source": [
    "# TF 모델 생성 및 학습"
   ]
  },
  {
   "cell_type": "code",
   "execution_count": 1,
   "id": "ae684309",
   "metadata": {
    "scrolled": false
   },
   "outputs": [
    {
     "name": "stdout",
     "output_type": "stream",
     "text": [
      "Num GPUs Available:  1\n",
      "Loading preprocessed data...\n",
      "Preprocessed data loaded.\n",
      "Preparing datasets...\n",
      "Datasets prepared.\n",
      "Creating tf.data.Dataset...\n",
      "tf.data.Dataset created.\n",
      "Building and compiling the model...\n",
      "Model built and compiled.\n",
      "Starting model training...\n",
      "Epoch 1/1\n"
     ]
    },
    {
     "name": "stderr",
     "output_type": "stream",
     "text": [
      "                                                                                                                       \r"
     ]
    },
    {
     "name": "stdout",
     "output_type": "stream",
     "text": [
      "Training loss: 0.00191025278244971, Training accuracy: 0.9997025842793125\n",
      "Validation loss: 0.0, Validation accuracy: 1.0\n",
      "Model training finished.\n"
     ]
    },
    {
     "data": {
      "image/png": "[encoded data removed]",
      "text/plain": [
       "<Figure size 1600x800 with 2 Axes>"
      ]
     },
     "metadata": {},
     "output_type": "display_data"
    },
    {
     "ename": "NotImplementedError",
     "evalue": "Layer TransformerBlock has arguments in `__init__` and therefore must override `get_config`.",
     "output_type": "error",
     "traceback": [
      "\u001b[1;31m---------------------------------------------------------------------------\u001b[0m",
      "\u001b[1;31mNotImplementedError\u001b[0m                       Traceback (most recent call last)",
      "\u001b[1;32m~\\AppData\\Local\\Temp\\ipykernel_23708\\2130194071.py\u001b[0m in \u001b[0;36m<module>\u001b[1;34m\u001b[0m\n\u001b[0;32m    181\u001b[0m \u001b[1;33m\u001b[0m\u001b[0m\n\u001b[0;32m    182\u001b[0m \u001b[1;31m# 모델 저장\u001b[0m\u001b[1;33m\u001b[0m\u001b[1;33m\u001b[0m\u001b[1;33m\u001b[0m\u001b[0m\n\u001b[1;32m--> 183\u001b[1;33m \u001b[0mmodel\u001b[0m\u001b[1;33m.\u001b[0m\u001b[0msave\u001b[0m\u001b[1;33m(\u001b[0m\u001b[1;34m'transformer_model.h5'\u001b[0m\u001b[1;33m)\u001b[0m\u001b[1;33m\u001b[0m\u001b[1;33m\u001b[0m\u001b[0m\n\u001b[0m\u001b[0;32m    184\u001b[0m \u001b[0mprint\u001b[0m\u001b[1;33m(\u001b[0m\u001b[1;34m\"Model saved.\"\u001b[0m\u001b[1;33m)\u001b[0m\u001b[1;33m\u001b[0m\u001b[1;33m\u001b[0m\u001b[0m\n",
      "\u001b[1;32mC:\\ProgramData\\anaconda3\\envs\\myenv\\lib\\site-packages\\keras\\engine\\training.py\u001b[0m in \u001b[0;36msave\u001b[1;34m(self, filepath, overwrite, include_optimizer, save_format, signatures, options, save_traces)\u001b[0m\n\u001b[0;32m   2144\u001b[0m     \u001b[1;31m# pylint: enable=line-too-long\u001b[0m\u001b[1;33m\u001b[0m\u001b[1;33m\u001b[0m\u001b[1;33m\u001b[0m\u001b[0m\n\u001b[0;32m   2145\u001b[0m     save.save_model(self, filepath, overwrite, include_optimizer, save_format,\n\u001b[1;32m-> 2146\u001b[1;33m                     signatures, options, save_traces)\n\u001b[0m\u001b[0;32m   2147\u001b[0m \u001b[1;33m\u001b[0m\u001b[0m\n\u001b[0;32m   2148\u001b[0m   def save_weights(self,\n",
      "\u001b[1;32mC:\\ProgramData\\anaconda3\\envs\\myenv\\lib\\site-packages\\keras\\saving\\save.py\u001b[0m in \u001b[0;36msave_model\u001b[1;34m(model, filepath, overwrite, include_optimizer, save_format, signatures, options, save_traces)\u001b[0m\n\u001b[0;32m    144\u001b[0m           'or using `save_weights`.')\n\u001b[0;32m    145\u001b[0m     hdf5_format.save_model_to_hdf5(\n\u001b[1;32m--> 146\u001b[1;33m         model, filepath, overwrite, include_optimizer)\n\u001b[0m\u001b[0;32m    147\u001b[0m   \u001b[1;32melse\u001b[0m\u001b[1;33m:\u001b[0m\u001b[1;33m\u001b[0m\u001b[1;33m\u001b[0m\u001b[0m\n\u001b[0;32m    148\u001b[0m     \u001b[1;32mwith\u001b[0m \u001b[0mgeneric_utils\u001b[0m\u001b[1;33m.\u001b[0m\u001b[0mSharedObjectSavingScope\u001b[0m\u001b[1;33m(\u001b[0m\u001b[1;33m)\u001b[0m\u001b[1;33m:\u001b[0m\u001b[1;33m\u001b[0m\u001b[1;33m\u001b[0m\u001b[0m\n",
      "\u001b[1;32mC:\\ProgramData\\anaconda3\\envs\\myenv\\lib\\site-packages\\keras\\saving\\hdf5_format.py\u001b[0m in \u001b[0;36msave_model_to_hdf5\u001b[1;34m(model, filepath, overwrite, include_optimizer)\u001b[0m\n\u001b[0;32m    108\u001b[0m \u001b[1;33m\u001b[0m\u001b[0m\n\u001b[0;32m    109\u001b[0m   \u001b[1;32mtry\u001b[0m\u001b[1;33m:\u001b[0m\u001b[1;33m\u001b[0m\u001b[1;33m\u001b[0m\u001b[0m\n\u001b[1;32m--> 110\u001b[1;33m     \u001b[0mmodel_metadata\u001b[0m \u001b[1;33m=\u001b[0m \u001b[0msaving_utils\u001b[0m\u001b[1;33m.\u001b[0m\u001b[0mmodel_metadata\u001b[0m\u001b[1;33m(\u001b[0m\u001b[0mmodel\u001b[0m\u001b[1;33m,\u001b[0m \u001b[0minclude_optimizer\u001b[0m\u001b[1;33m)\u001b[0m\u001b[1;33m\u001b[0m\u001b[1;33m\u001b[0m\u001b[0m\n\u001b[0m\u001b[0;32m    111\u001b[0m     \u001b[1;32mfor\u001b[0m \u001b[0mk\u001b[0m\u001b[1;33m,\u001b[0m \u001b[0mv\u001b[0m \u001b[1;32min\u001b[0m \u001b[0mmodel_metadata\u001b[0m\u001b[1;33m.\u001b[0m\u001b[0mitems\u001b[0m\u001b[1;33m(\u001b[0m\u001b[1;33m)\u001b[0m\u001b[1;33m:\u001b[0m\u001b[1;33m\u001b[0m\u001b[1;33m\u001b[0m\u001b[0m\n\u001b[0;32m    112\u001b[0m       \u001b[1;32mif\u001b[0m \u001b[0misinstance\u001b[0m\u001b[1;33m(\u001b[0m\u001b[0mv\u001b[0m\u001b[1;33m,\u001b[0m \u001b[1;33m(\u001b[0m\u001b[0mdict\u001b[0m\u001b[1;33m,\u001b[0m \u001b[0mlist\u001b[0m\u001b[1;33m,\u001b[0m \u001b[0mtuple\u001b[0m\u001b[1;33m)\u001b[0m\u001b[1;33m)\u001b[0m\u001b[1;33m:\u001b[0m\u001b[1;33m\u001b[0m\u001b[1;33m\u001b[0m\u001b[0m\n",
      "\u001b[1;32mC:\\ProgramData\\anaconda3\\envs\\myenv\\lib\\site-packages\\keras\\saving\\saving_utils.py\u001b[0m in \u001b[0;36mmodel_metadata\u001b[1;34m(model, include_optimizer, require_config)\u001b[0m\n\u001b[0;32m    146\u001b[0m   \u001b[1;32mexcept\u001b[0m \u001b[0mNotImplementedError\u001b[0m \u001b[1;32mas\u001b[0m \u001b[0me\u001b[0m\u001b[1;33m:\u001b[0m\u001b[1;33m\u001b[0m\u001b[1;33m\u001b[0m\u001b[0m\n\u001b[0;32m    147\u001b[0m     \u001b[1;32mif\u001b[0m \u001b[0mrequire_config\u001b[0m\u001b[1;33m:\u001b[0m\u001b[1;33m\u001b[0m\u001b[1;33m\u001b[0m\u001b[0m\n\u001b[1;32m--> 148\u001b[1;33m       \u001b[1;32mraise\u001b[0m \u001b[0me\u001b[0m\u001b[1;33m\u001b[0m\u001b[1;33m\u001b[0m\u001b[0m\n\u001b[0m\u001b[0;32m    149\u001b[0m \u001b[1;33m\u001b[0m\u001b[0m\n\u001b[0;32m    150\u001b[0m   metadata = dict(\n",
      "\u001b[1;32mC:\\ProgramData\\anaconda3\\envs\\myenv\\lib\\site-packages\\keras\\saving\\saving_utils.py\u001b[0m in \u001b[0;36mmodel_metadata\u001b[1;34m(model, include_optimizer, require_config)\u001b[0m\n\u001b[0;32m    143\u001b[0m   \u001b[0mmodel_config\u001b[0m \u001b[1;33m=\u001b[0m \u001b[1;33m{\u001b[0m\u001b[1;34m'class_name'\u001b[0m\u001b[1;33m:\u001b[0m \u001b[0mmodel\u001b[0m\u001b[1;33m.\u001b[0m\u001b[0m__class__\u001b[0m\u001b[1;33m.\u001b[0m\u001b[0m__name__\u001b[0m\u001b[1;33m}\u001b[0m\u001b[1;33m\u001b[0m\u001b[1;33m\u001b[0m\u001b[0m\n\u001b[0;32m    144\u001b[0m   \u001b[1;32mtry\u001b[0m\u001b[1;33m:\u001b[0m\u001b[1;33m\u001b[0m\u001b[1;33m\u001b[0m\u001b[0m\n\u001b[1;32m--> 145\u001b[1;33m     \u001b[0mmodel_config\u001b[0m\u001b[1;33m[\u001b[0m\u001b[1;34m'config'\u001b[0m\u001b[1;33m]\u001b[0m \u001b[1;33m=\u001b[0m \u001b[0mmodel\u001b[0m\u001b[1;33m.\u001b[0m\u001b[0mget_config\u001b[0m\u001b[1;33m(\u001b[0m\u001b[1;33m)\u001b[0m\u001b[1;33m\u001b[0m\u001b[1;33m\u001b[0m\u001b[0m\n\u001b[0m\u001b[0;32m    146\u001b[0m   \u001b[1;32mexcept\u001b[0m \u001b[0mNotImplementedError\u001b[0m \u001b[1;32mas\u001b[0m \u001b[0me\u001b[0m\u001b[1;33m:\u001b[0m\u001b[1;33m\u001b[0m\u001b[1;33m\u001b[0m\u001b[0m\n\u001b[0;32m    147\u001b[0m     \u001b[1;32mif\u001b[0m \u001b[0mrequire_config\u001b[0m\u001b[1;33m:\u001b[0m\u001b[1;33m\u001b[0m\u001b[1;33m\u001b[0m\u001b[0m\n",
      "\u001b[1;32mC:\\ProgramData\\anaconda3\\envs\\myenv\\lib\\site-packages\\keras\\engine\\functional.py\u001b[0m in \u001b[0;36mget_config\u001b[1;34m(self)\u001b[0m\n\u001b[0;32m    641\u001b[0m \u001b[1;33m\u001b[0m\u001b[0m\n\u001b[0;32m    642\u001b[0m   \u001b[1;32mdef\u001b[0m \u001b[0mget_config\u001b[0m\u001b[1;33m(\u001b[0m\u001b[0mself\u001b[0m\u001b[1;33m)\u001b[0m\u001b[1;33m:\u001b[0m\u001b[1;33m\u001b[0m\u001b[1;33m\u001b[0m\u001b[0m\n\u001b[1;32m--> 643\u001b[1;33m     \u001b[1;32mreturn\u001b[0m \u001b[0mcopy\u001b[0m\u001b[1;33m.\u001b[0m\u001b[0mdeepcopy\u001b[0m\u001b[1;33m(\u001b[0m\u001b[0mget_network_config\u001b[0m\u001b[1;33m(\u001b[0m\u001b[0mself\u001b[0m\u001b[1;33m)\u001b[0m\u001b[1;33m)\u001b[0m\u001b[1;33m\u001b[0m\u001b[1;33m\u001b[0m\u001b[0m\n\u001b[0m\u001b[0;32m    644\u001b[0m \u001b[1;33m\u001b[0m\u001b[0m\n\u001b[0;32m    645\u001b[0m   \u001b[1;33m@\u001b[0m\u001b[0mclassmethod\u001b[0m\u001b[1;33m\u001b[0m\u001b[1;33m\u001b[0m\u001b[0m\n",
      "\u001b[1;32mC:\\ProgramData\\anaconda3\\envs\\myenv\\lib\\site-packages\\keras\\engine\\functional.py\u001b[0m in \u001b[0;36mget_network_config\u001b[1;34m(network, serialize_layer_fn)\u001b[0m\n\u001b[0;32m   1347\u001b[0m           \u001b[0mfiltered_inbound_nodes\u001b[0m\u001b[1;33m.\u001b[0m\u001b[0mappend\u001b[0m\u001b[1;33m(\u001b[0m\u001b[0mnode_data\u001b[0m\u001b[1;33m)\u001b[0m\u001b[1;33m\u001b[0m\u001b[1;33m\u001b[0m\u001b[0m\n\u001b[0;32m   1348\u001b[0m \u001b[1;33m\u001b[0m\u001b[0m\n\u001b[1;32m-> 1349\u001b[1;33m       \u001b[0mlayer_config\u001b[0m \u001b[1;33m=\u001b[0m \u001b[0mserialize_layer_fn\u001b[0m\u001b[1;33m(\u001b[0m\u001b[0mlayer\u001b[0m\u001b[1;33m)\u001b[0m\u001b[1;33m\u001b[0m\u001b[1;33m\u001b[0m\u001b[0m\n\u001b[0m\u001b[0;32m   1350\u001b[0m       \u001b[0mlayer_config\u001b[0m\u001b[1;33m[\u001b[0m\u001b[1;34m'name'\u001b[0m\u001b[1;33m]\u001b[0m \u001b[1;33m=\u001b[0m \u001b[0mlayer\u001b[0m\u001b[1;33m.\u001b[0m\u001b[0mname\u001b[0m\u001b[1;33m\u001b[0m\u001b[1;33m\u001b[0m\u001b[0m\n\u001b[0;32m   1351\u001b[0m       \u001b[0mlayer_config\u001b[0m\u001b[1;33m[\u001b[0m\u001b[1;34m'inbound_nodes'\u001b[0m\u001b[1;33m]\u001b[0m \u001b[1;33m=\u001b[0m \u001b[0mfiltered_inbound_nodes\u001b[0m\u001b[1;33m\u001b[0m\u001b[1;33m\u001b[0m\u001b[0m\n",
      "\u001b[1;32mC:\\ProgramData\\anaconda3\\envs\\myenv\\lib\\site-packages\\keras\\utils\\generic_utils.py\u001b[0m in \u001b[0;36mserialize_keras_object\u001b[1;34m(instance)\u001b[0m\n\u001b[0;32m    506\u001b[0m         return serialize_keras_class_and_config(\n\u001b[0;32m    507\u001b[0m             name, {_LAYER_UNDEFINED_CONFIG_KEY: True})\n\u001b[1;32m--> 508\u001b[1;33m       \u001b[1;32mraise\u001b[0m \u001b[0me\u001b[0m\u001b[1;33m\u001b[0m\u001b[1;33m\u001b[0m\u001b[0m\n\u001b[0m\u001b[0;32m    509\u001b[0m     \u001b[0mserialization_config\u001b[0m \u001b[1;33m=\u001b[0m \u001b[1;33m{\u001b[0m\u001b[1;33m}\u001b[0m\u001b[1;33m\u001b[0m\u001b[1;33m\u001b[0m\u001b[0m\n\u001b[0;32m    510\u001b[0m     \u001b[1;32mfor\u001b[0m \u001b[0mkey\u001b[0m\u001b[1;33m,\u001b[0m \u001b[0mitem\u001b[0m \u001b[1;32min\u001b[0m \u001b[0mconfig\u001b[0m\u001b[1;33m.\u001b[0m\u001b[0mitems\u001b[0m\u001b[1;33m(\u001b[0m\u001b[1;33m)\u001b[0m\u001b[1;33m:\u001b[0m\u001b[1;33m\u001b[0m\u001b[1;33m\u001b[0m\u001b[0m\n",
      "\u001b[1;32mC:\\ProgramData\\anaconda3\\envs\\myenv\\lib\\site-packages\\keras\\utils\\generic_utils.py\u001b[0m in \u001b[0;36mserialize_keras_object\u001b[1;34m(instance)\u001b[0m\n\u001b[0;32m    501\u001b[0m     \u001b[0mname\u001b[0m \u001b[1;33m=\u001b[0m \u001b[0mget_registered_name\u001b[0m\u001b[1;33m(\u001b[0m\u001b[0minstance\u001b[0m\u001b[1;33m.\u001b[0m\u001b[0m__class__\u001b[0m\u001b[1;33m)\u001b[0m\u001b[1;33m\u001b[0m\u001b[1;33m\u001b[0m\u001b[0m\n\u001b[0;32m    502\u001b[0m     \u001b[1;32mtry\u001b[0m\u001b[1;33m:\u001b[0m\u001b[1;33m\u001b[0m\u001b[1;33m\u001b[0m\u001b[0m\n\u001b[1;32m--> 503\u001b[1;33m       \u001b[0mconfig\u001b[0m \u001b[1;33m=\u001b[0m \u001b[0minstance\u001b[0m\u001b[1;33m.\u001b[0m\u001b[0mget_config\u001b[0m\u001b[1;33m(\u001b[0m\u001b[1;33m)\u001b[0m\u001b[1;33m\u001b[0m\u001b[1;33m\u001b[0m\u001b[0m\n\u001b[0m\u001b[0;32m    504\u001b[0m     \u001b[1;32mexcept\u001b[0m \u001b[0mNotImplementedError\u001b[0m \u001b[1;32mas\u001b[0m \u001b[0me\u001b[0m\u001b[1;33m:\u001b[0m\u001b[1;33m\u001b[0m\u001b[1;33m\u001b[0m\u001b[0m\n\u001b[0;32m    505\u001b[0m       \u001b[1;32mif\u001b[0m \u001b[0m_SKIP_FAILED_SERIALIZATION\u001b[0m\u001b[1;33m:\u001b[0m\u001b[1;33m\u001b[0m\u001b[1;33m\u001b[0m\u001b[0m\n",
      "\u001b[1;32mC:\\ProgramData\\anaconda3\\envs\\myenv\\lib\\site-packages\\keras\\engine\\base_layer.py\u001b[0m in \u001b[0;36mget_config\u001b[1;34m(self)\u001b[0m\n\u001b[0;32m    727\u001b[0m       raise NotImplementedError('Layer %s has arguments in `__init__` and '\n\u001b[0;32m    728\u001b[0m                                 \u001b[1;34m'therefore must override `get_config`.'\u001b[0m \u001b[1;33m%\u001b[0m\u001b[1;33m\u001b[0m\u001b[1;33m\u001b[0m\u001b[0m\n\u001b[1;32m--> 729\u001b[1;33m                                 self.__class__.__name__)\n\u001b[0m\u001b[0;32m    730\u001b[0m     \u001b[1;32mreturn\u001b[0m \u001b[0mconfig\u001b[0m\u001b[1;33m\u001b[0m\u001b[1;33m\u001b[0m\u001b[0m\n\u001b[0;32m    731\u001b[0m \u001b[1;33m\u001b[0m\u001b[0m\n",
      "\u001b[1;31mNotImplementedError\u001b[0m: Layer TransformerBlock has arguments in `__init__` and therefore must override `get_config`."
     ]
    }
   ],
   "source": [
    "import tensorflow as tf\n",
    "from tensorflow.keras.models import Model\n",
    "from tensorflow.keras.layers import Dense, Dropout, LayerNormalization, MultiHeadAttention, Embedding, Input, GlobalAveragePooling1D\n",
    "from tensorflow.keras.utils import to_categorical\n",
    "import numpy as np\n",
    "import pandas as pd\n",
    "import joblib\n",
    "from tqdm import tqdm\n",
    "import matplotlib.pyplot as plt\n",
    "\n",
    "# GPU 설정 확인\n",
    "print(\"Num GPUs Available: \", len(tf.config.list_physical_devices('GPU')))\n",
    "if tf.config.list_physical_devices('GPU'):\n",
    "    for gpu in tf.config.list_physical_devices('GPU'):\n",
    "        tf.config.experimental.set_memory_growth(gpu, True)\n",
    "\n",
    "# 전처리된 데이터 로드\n",
    "print(\"Loading preprocessed data...\")\n",
    "train_links_df = pd.read_csv('train_links_df.csv', encoding='utf-8')\n",
    "validate_links_df = pd.read_csv('validate_links_df.csv', encoding='utf-8')\n",
    "train_entry_exit_df = pd.read_csv('train_entry_exit_df.csv', encoding='utf-8')\n",
    "validate_entry_exit_df = pd.read_csv('validate_entry_exit_df.csv', encoding='utf-8')\n",
    "print(\"Preprocessed data loaded.\")\n",
    "\n",
    "# LabelEncoder 로드\n",
    "label_encoder = joblib.load('label_encoder.pkl')\n",
    "\n",
    "# 데이터셋 준비\n",
    "print(\"Preparing datasets...\")\n",
    "x_train = np.array(train_links_df['encoded_source']).reshape(-1, 1)\n",
    "y_train = to_categorical(train_links_df['encoded_source'], num_classes=len(label_encoder.classes_))\n",
    "x_val = np.array(validate_links_df['encoded_source']).reshape(-1, 1)\n",
    "y_val = to_categorical(validate_links_df['encoded_source'], num_classes=len(label_encoder.classes_))\n",
    "print(\"Datasets prepared.\")\n",
    "\n",
    "# tf.data.Dataset 사용\n",
    "print(\"Creating tf.data.Dataset...\")\n",
    "batch_size = 256\n",
    "\n",
    "def gen_train():\n",
    "    for x, y in zip(x_train, y_train):\n",
    "        yield x, y\n",
    "\n",
    "def gen_val():\n",
    "    for x, y in zip(x_val, y_val):\n",
    "        yield x, y\n",
    "\n",
    "train_dataset = tf.data.Dataset.from_generator(gen_train, output_signature=(tf.TensorSpec(shape=(1,), dtype=tf.int32), tf.TensorSpec(shape=(len(label_encoder.classes_),), dtype=tf.float32)))\n",
    "train_dataset = train_dataset.shuffle(buffer_size=1024).batch(batch_size).prefetch(tf.data.experimental.AUTOTUNE)\n",
    "\n",
    "val_dataset = tf.data.Dataset.from_generator(gen_val, output_signature=(tf.TensorSpec(shape=(1,), dtype=tf.int32), tf.TensorSpec(shape=(len(label_encoder.classes_),), dtype=tf.float32)))\n",
    "val_dataset = val_dataset.batch(batch_size).prefetch(tf.data.experimental.AUTOTUNE)\n",
    "print(\"tf.data.Dataset created.\")\n",
    "\n",
    "# 트랜스포머 모델 정의\n",
    "class TransformerBlock(tf.keras.layers.Layer):\n",
    "    def __init__(self, d_model, num_heads, dff, rate=0.1):\n",
    "        super(TransformerBlock, self).__init__()\n",
    "        self.att = MultiHeadAttention(num_heads=num_heads, key_dim=d_model)\n",
    "        self.ffn = tf.keras.Sequential([\n",
    "            Dense(dff, activation='relu'),\n",
    "            Dense(d_model)\n",
    "        ])\n",
    "        self.layernorm1 = LayerNormalization(epsilon=1e-6)\n",
    "        self.layernorm2 = LayerNormalization(epsilon=1e-6)\n",
    "        self.dropout1 = Dropout(rate)\n",
    "        self.dropout2 = Dropout(rate)\n",
    "\n",
    "    def call(self, inputs, training):\n",
    "        attn_output = self.att(inputs, inputs)\n",
    "        attn_output = self.dropout1(attn_output, training=training)\n",
    "        out1 = self.layernorm1(inputs + attn_output)\n",
    "        ffn_output = self.ffn(out1)\n",
    "        ffn_output = self.dropout2(ffn_output, training=training)\n",
    "        return self.layernorm2(out1 + ffn_output)\n",
    "\n",
    "def positional_encoding(position, d_model):\n",
    "    angle_rates = 1 / np.power(10000, (2 * (np.arange(d_model)[np.newaxis, :] // 2)) / np.float32(d_model))\n",
    "    angle_rads = np.arange(position)[:, np.newaxis] * angle_rates\n",
    "    angle_rads[:, 0::2] = np.sin(angle_rads[:, 0::2])\n",
    "    angle_rads[:, 1::2] = np.cos(angle_rads[:, 1::2])\n",
    "    return tf.cast(angle_rads[np.newaxis, ...], dtype=tf.float32)\n",
    "\n",
    "def TransformerModel(vocab_size, num_layers, d_model, num_heads, dff, input_vocab_size, rate=0.1):\n",
    "    inputs = Input(shape=(None,))\n",
    "    embedding = Embedding(input_vocab_size, d_model)(inputs)\n",
    "    pos_encoding = positional_encoding(500, d_model)\n",
    "    x = embedding + pos_encoding[:, :tf.shape(inputs)[1], :]\n",
    "    x = Dropout(rate)(x)\n",
    "    for _ in range(num_layers):\n",
    "        x = TransformerBlock(d_model, num_heads, dff, rate)(x)\n",
    "    x = GlobalAveragePooling1D()(x)\n",
    "    outputs = Dense(vocab_size, activation='softmax')(x)\n",
    "    return Model(inputs=inputs, outputs=outputs)\n",
    "\n",
    "# 모델 빌드 및 컴파일\n",
    "print(\"Building and compiling the model...\")\n",
    "vocab_size = len(label_encoder.classes_)\n",
    "with tf.device('/GPU:0'):\n",
    "    model = TransformerModel(\n",
    "        vocab_size=vocab_size,\n",
    "        num_layers=1,\n",
    "        d_model=32,\n",
    "        num_heads=2,\n",
    "        dff=128,\n",
    "        input_vocab_size=vocab_size,\n",
    "        rate=0.1\n",
    "    )\n",
    "    model.compile(\n",
    "        optimizer='adam',\n",
    "        loss='categorical_crossentropy',\n",
    "        metrics=['accuracy']\n",
    "    )\n",
    "print(\"Model built and compiled.\")\n",
    "\n",
    "# 학습 루프\n",
    "print(\"Starting model training...\")\n",
    "num_epochs = 1\n",
    "\n",
    "train_steps_per_epoch = np.ceil(len(x_train) / batch_size)\n",
    "val_steps = np.ceil(len(x_val) / batch_size)\n",
    "\n",
    "history = {\n",
    "    'batch_loss': [],\n",
    "    'batch_accuracy': [],\n",
    "    'val_batch_loss': [],\n",
    "    'val_batch_accuracy': []\n",
    "}\n",
    "\n",
    "for epoch in range(num_epochs):\n",
    "    print(f\"Epoch {epoch + 1}/{num_epochs}\")\n",
    "    \n",
    "    # Training\n",
    "    train_loss = []\n",
    "    train_accuracy = []\n",
    "    for step, (x_batch_train, y_batch_train) in enumerate(tqdm(train_dataset, desc=\"Training\", total=train_steps_per_epoch, leave=False)):\n",
    "        hist = model.train_on_batch(x_batch_train, y_batch_train)\n",
    "        train_loss.append(hist[0])\n",
    "        train_accuracy.append(hist[1])\n",
    "        history['batch_loss'].append(hist[0])\n",
    "        history['batch_accuracy'].append(hist[1])\n",
    "    \n",
    "    # Validation\n",
    "    val_loss = []\n",
    "    val_accuracy = []\n",
    "    for x_batch_val, y_batch_val in tqdm(val_dataset, desc=\"Validation\", total=val_steps, leave=False):\n",
    "        hist = model.test_on_batch(x_batch_val, y_batch_val)\n",
    "        val_loss.append(hist[0])\n",
    "        val_accuracy.append(hist[1])\n",
    "        history['val_batch_loss'].append(hist[0])\n",
    "        history['val_batch_accuracy'].append(hist[1])\n",
    "    \n",
    "    print(f\"Training loss: {np.mean(train_loss)}, Training accuracy: {np.mean(train_accuracy)}\")\n",
    "    print(f\"Validation loss: {np.mean(val_loss)}, Validation accuracy: {np.mean(val_accuracy)}\")\n",
    "\n",
    "print(\"Model training finished.\")\n",
    "\n",
    "# 배치 단위 손실 및 정확도 시각화\n",
    "plt.figure(figsize=(16, 8))\n",
    "\n",
    "# 배치 단위 손실 그래프\n",
    "plt.subplot(2, 1, 1)\n",
    "plt.plot(history['batch_loss'], label='Batch Training Loss')\n",
    "plt.plot(history['val_batch_loss'], label='Batch Validation Loss')\n",
    "plt.xlabel('Batch')\n",
    "plt.ylabel('Loss')\n",
    "plt.title('Batch Training and Validation Loss')\n",
    "plt.legend()\n",
    "\n",
    "# 배치 단위 정확도 그래프\n",
    "plt.subplot(2, 1, 2)\n",
    "plt.plot(history['batch_accuracy'], label='Batch Training Accuracy')\n",
    "plt.plot(history['val_batch_accuracy'], label='Batch Validation Accuracy')\n",
    "plt.xlabel('Batch')\n",
    "plt.ylabel('Accuracy')\n",
    "plt.title('Batch Training and Validation Accuracy')\n",
    "plt.legend()\n",
    "\n",
    "plt.tight_layout()\n",
    "plt.show()\n",
    "\n",
    "# 모델 저장\n",
    "model.save('transformer_model.h5')\n",
    "print(\"Model saved.\")\n"
   ]
  },
  {
   "cell_type": "code",
   "execution_count": null,
   "id": "417467da",
   "metadata": {},
   "outputs": [],
   "source": [
    "#TF 예측 코드"
   ]
  },
  {
   "cell_type": "code",
   "execution_count": null,
   "id": "e8afbe60",
   "metadata": {},
   "outputs": [
    {
     "name": "stdout",
     "output_type": "stream",
     "text": [
      "Loading validation data...\n"
     ]
    }
   ],
   "source": [
    "import tensorflow as tf\n",
    "from tensorflow.keras.models import load_model\n",
    "from tensorflow.keras.preprocessing.sequence import pad_sequences\n",
    "import pandas as pd\n",
    "import numpy as np\n",
    "import joblib\n",
    "from tqdm import tqdm\n",
    "from collections import defaultdict\n",
    "import matplotlib.pyplot as plt\n",
    "\n",
    "# 데이터 불러오기\n",
    "print(\"Loading validation data...\")\n",
    "validate_links_df = pd.read_csv('validate_links_df.csv', encoding='utf-8-sig')\n",
    "validate_links_df = validate_links_df[validate_links_df['Date'] == '2024-04-23']  # 4월 23일의 데이터만 사용\n",
    "print(\"Validation data loaded.\")\n",
    "\n",
    "label_encoder = joblib.load('label_encoder.pkl')\n",
    "\n",
    "# 모델 불러오기\n",
    "print(\"Loading model...\")\n",
    "model = load_model('transformer_model.h5')\n",
    "print(\"Model loaded.\")\n",
    "\n",
    "# 차량 경로 시퀀스 생성\n",
    "print(\"Creating vehicle paths...\")\n",
    "def create_vehicle_paths(links_df):\n",
    "    vehicle_paths = defaultdict(list)\n",
    "    for _, row in tqdm(links_df.iterrows(), total=links_df.shape[0], desc=\"Creating Vehicle Paths\"):\n",
    "        vehicle_paths[row['차량ID']].append(row['Source'])\n",
    "        vehicle_paths[row['차량ID']].append(row['Target'])\n",
    "    for vehicle_id in vehicle_paths:\n",
    "        vehicle_paths[vehicle_id] = list(dict.fromkeys(vehicle_paths[vehicle_id]))\n",
    "    return vehicle_paths\n",
    "\n",
    "def create_sequence_df(vehicle_paths):\n",
    "    sequence_data = []\n",
    "    for vehicle_id, path in vehicle_paths.items():\n",
    "        for i in range(len(path) - 1):\n",
    "            sequence_data.append([vehicle_id, path[i], path[i + 1]])\n",
    "    return pd.DataFrame(sequence_data, columns=['차량ID', 'Source', 'Target'])\n",
    "\n",
    "# 예측 수행\n",
    "print(\"Generating predictions...\")\n",
    "val_vehicle_paths = create_vehicle_paths(validate_links_df)\n",
    "val_sequence_df = create_sequence_df(val_vehicle_paths)\n",
    "\n",
    "# 노드 ID에 라벨 인코딩 적용\n",
    "try:\n",
    "    val_sequence_df['Source'] = label_encoder.transform(val_sequence_df['Source'])\n",
    "    val_sequence_df['Target'] = label_encoder.transform(val_sequence_df['Target'])\n",
    "except Exception as e:\n",
    "    print(f\"Label encoding error: {e}\")\n",
    "    raise\n",
    "\n",
    "# 시퀀스와 레이블 생성\n",
    "def create_sequences(sequence_df):\n",
    "    sequences = []\n",
    "    for vehicle_id, group in sequence_df.groupby('차량ID'):\n",
    "        seq = group['Source'].tolist()\n",
    "        for i in range(1, len(seq)):\n",
    "            sequences.append(seq[:i])\n",
    "    return sequences\n",
    "\n",
    "val_sequences = create_sequences(val_sequence_df)\n",
    "\n",
    "# 시퀀스 패딩 처리\n",
    "print(\"Padding sequences...\")\n",
    "try:\n",
    "    max_sequence_length = max(len(seq) for seq in val_sequences)\n",
    "    val_sequences_padded = pad_sequences(val_sequences, maxlen=max_sequence_length, padding='pre')\n",
    "except Exception as e:\n",
    "    print(f\"Sequence padding error: {e}\")\n",
    "    raise\n",
    "\n",
    "# 예측 수행\n",
    "predictions = np.zeros((val_sequences_padded.shape[0], len(label_encoder.classes_)))\n",
    "print(\"Predicting...\")\n",
    "for i in tqdm(range(0, val_sequences_padded.shape[0], 256), desc=\"Prediction Progress\"):\n",
    "    batch_sequences = val_sequences_padded[i:i + 256]\n",
    "    try:\n",
    "        with tf.device('/GPU:0'):\n",
    "            predictions[i:i + len(batch_sequences)] = model.predict(batch_sequences, verbose=0)\n",
    "    except Exception as e:\n",
    "        print(f\"Prediction error at batch {i}: {e}\")\n",
    "        raise\n",
    "\n",
    "# 각 시퀀스에 대해 가장 높은 확률을 가진 노드 인덱스 가져오기\n",
    "print(\"Processing predictions...\")\n",
    "try:\n",
    "    predicted_nodes = predictions.argmax(axis=1)\n",
    "    predicted_node_ids = label_encoder.inverse_transform(predicted_nodes)\n",
    "except Exception as e:\n",
    "    print(f\"Error during prediction post-processing: {e}\")\n",
    "    raise\n",
    "\n",
    "# 각 예측된 노드의 발생 빈도 계산\n",
    "node_counts = pd.Series(predicted_node_ids).value_counts()\n",
    "\n",
    "# 가장 혼잡한 노드 상위 8개 추출\n",
    "congested_nodes = node_counts.head(8)\n",
    "print(\"Top 8 most congested nodes for 2024-04-23:\")\n",
    "print(congested_nodes)\n",
    "\n",
    "# 예측된 혼잡 노드 정보를 추출\n",
    "congested_nodes_df = pd.DataFrame({\n",
    "    'Date': '2024-04-23',\n",
    "    'Node': congested_nodes.index,\n",
    "    'PredictedCount': congested_nodes.values\n",
    "}).reset_index(drop=True)\n",
    "\n",
    "# 결과를 CSV 파일로 저장 (한글 인코딩 설정)\n",
    "congested_nodes_df.to_csv('predicted_congested_nodes(TF)_0423.csv', index=False, encoding='utf-8-sig')\n",
    "print(\"예측된 혼잡 노드 정보를 predicted_congested_nodes_0423.csv 파일로 저장했습니다.\")\n",
    "\n",
    "# 실제 혼잡도 데이터 로드\n",
    "actual_congestion_data = pd.read_csv('actual_congestion_data.csv', encoding='utf-8')\n",
    "\n",
    "# 날짜가 '2024-04-23'인 데이터만 선택\n",
    "actual_congestion_data_0423 = actual_congestion_data[actual_congestion_data['Date'] == '2024-04-23']\n",
    "\n",
    "# 예측된 혼잡도와 실제 혼잡도를 비교하는 그래프 그리기\n",
    "plt.figure(figsize=(10, 6))\n",
    "\n",
    "# 예측된 혼잡도 그래프\n",
    "plt.plot(congested_nodes_df['Node'], congested_nodes_df['PredictedCount'], label='Predicted Congestion', color='blue')\n",
    "\n",
    "# 실제 혼잡도 그래프\n",
    "plt.plot(actual_congestion_data_0423['Node'], actual_congestion_data_0423['ActualCount'], label='Actual Congestion', color='red')\n",
    "\n",
    "plt.xlabel('Node')\n",
    "plt.ylabel('Congestion')\n",
    "plt.title('Comparison of Predicted and Actual Congestion for 2024-04-23')\n",
    "plt.xticks(rotation=45)\n",
    "plt.legend()\n",
    "plt.grid(True)\n",
    "plt.tight_layout()\n",
    "plt.show()\n"
   ]
  }
 ],
 "metadata": {
  "kernelspec": {
   "display_name": "Python (myenv)",
   "language": "python",
   "name": "myenv"
  },
  "language_info": {
   "codemirror_mode": {
    "name": "ipython",
    "version": 3
   },
   "file_extension": ".py",
   "mimetype": "text/x-python",
   "name": "python",
   "nbconvert_exporter": "python",
   "pygments_lexer": "ipython3",
   "version": "3.7.1"
  }
 },
 "nbformat": 4,
 "nbformat_minor": 5
}
